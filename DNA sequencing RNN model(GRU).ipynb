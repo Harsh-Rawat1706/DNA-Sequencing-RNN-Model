{
 "cells": [
  {
   "cell_type": "markdown",
   "id": "7a154172-9553-43d6-adc3-89c569f1110a",
   "metadata": {},
   "source": [
    "# DNA sequencing RNN model\n",
    "In this project i am going to create a model which can do classification between human,chimpanzees and dog DNA . In this project i am going to use 1D conv layer and GRU. "
   ]
  },
  {
   "cell_type": "code",
   "execution_count": 1,
   "id": "bdc3f40c-601d-490c-8487-69d6835a6b2f",
   "metadata": {},
   "outputs": [],
   "source": [
    "#import all important libraries\n",
    "#!pip install scikeras\n",
    "import numpy as np\n",
    "import pandas as pd\n",
    "import matplotlib.pyplot as plt\n",
    "import os\n",
    "import joblib\n",
    "from keras import utils\n",
    "from sklearn.model_selection  import train_test_split,GridSearchCV\n",
    "from keras.models import Sequential\n",
    "from keras.layers import Dense, Dropout, Masking, Flatten, Conv1D, MaxPooling1D, MaxPooling2D, Conv2D, LSTM, GRU, Bidirectional, Embedding\n",
    "from keras import regularizers\n",
    "from keras.callbacks import EarlyStopping, ModelCheckpoint\n",
    "from scikeras.wrappers import KerasClassifier\n",
    "import keras\n",
    "from sklearn.preprocessing import LabelEncoder\n",
    "from keras.preprocessing.sequence import pad_sequences\n",
    "import sklearn.metrics as metrics\n",
    "from sklearn.metrics import confusion_matrix, ConfusionMatrixDisplay"
   ]
  },
  {
   "cell_type": "code",
   "execution_count": 2,
   "id": "064ea9e0-c12b-43c1-b580-cdc937fa54b8",
   "metadata": {},
   "outputs": [
    {
     "name": "stdout",
     "output_type": "stream",
     "text": [
      "6882\n"
     ]
    }
   ],
   "source": [
    "# Data loading \n",
    "columns_name = [\"sequence\",\"class\"]\n",
    "data = pd.read_table(r\"C:\\Users\\lenovo\\Desktop\\4. DNA Sequencing\\Data\\human.txt\")\n",
    "dog_data = pd.read_table(r\"C:\\Users\\lenovo\\Desktop\\4. DNA Sequencing\\Data\\dog.txt\")\n",
    "chimp_data = pd.read_table(r\"C:\\Users\\lenovo\\Desktop\\4. DNA Sequencing\\Data\\chimpanzee.txt\")\n",
    "human_data = pd.concat([data,dog_data,chimp_data],ignore_index = True)\n",
    "print(human_data.shape[0])"
   ]
  },
  {
   "cell_type": "code",
   "execution_count": 3,
   "id": "ef9ccd40-2204-47d7-b3ed-469dac0495a0",
   "metadata": {},
   "outputs": [
    {
     "data": {
      "text/plain": [
       "'ATGCCCCAACTAAATACTACCGTATGGCCCACCATAATTACCCCCATACTCCTTACACTATTCCTCATCACCCAACTAAAAATATTAAACACAAACTACCACCTACCTCCCTCACCAAAGCCCATAAAAATAAAAAATTATAACAAACCCTGAGAACCAAAATGAACGAAAATCTGTTCGCTTCATTCATTGCCCCCACAATCCTAG'"
      ]
     },
     "execution_count": 3,
     "metadata": {},
     "output_type": "execute_result"
    }
   ],
   "source": [
    "human_data[\"sequence\"][0]"
   ]
  },
  {
   "cell_type": "markdown",
   "id": "11266838-1b9e-4ad4-b3b5-abe59a809eaa",
   "metadata": {},
   "source": [
    "### \"N\" in given sequence represent unknown data and our  first task is to remove it \n"
   ]
  },
  {
   "cell_type": "code",
   "execution_count": 4,
   "id": "cd2dab0c-59e6-47e9-bc62-5c4ba60208f7",
   "metadata": {},
   "outputs": [],
   "source": [
    "count = 0 \n",
    "indexes = []\n",
    "for seq in human_data[\"sequence\"]:\n",
    "    if \"N\" in seq:\n",
    "        indexes.append(count)\n",
    "    count+=1"
   ]
  },
  {
   "cell_type": "code",
   "execution_count": 5,
   "id": "417a6f5c-36bb-4eeb-a3d8-1c38ca0d83c9",
   "metadata": {},
   "outputs": [
    {
     "name": "stdout",
     "output_type": "stream",
     "text": [
      "ATGCGTGGCTTCAACCTGCTCCTCTTCTGGGGATGTTGTGTTATGCACAGCTGGGAAAGGCACATAAGACCCACACGGAAACCAAACACAAAGGGTAATAACTGTAGAGACAGTACCTTGTGCCCAGCTTATGCCACCTGCACCAACACAGTGGACAGTTACTATTGCACTTGCAAACGAGGCTTCCTGTCCAGCAATGGGCAAAATCACTTCAAGGGTCCAGGAGTGCAATGCAAAGCATGGGAAGCTACAGTTGCAGCTGTCAAGTTGGATTCATCTCTAGAAACTCCACCTGTGAAGATGTGGATGAATGTGCAGATCCAAGAGCTTGTCCAGAGCATGCAACTTGTAATAACACTGTTGGAAACTACTCTTGTTTCTGCAACCCAGGATTTGAATCCAGCAGTGGCCACTTGAGTTTCCAGGGTCTCGAAGCATCGTGTGAAGATATTGATGAATGCACTGAAATGTGCCCCATCAATTCAACATGCACCAACACTCCTGGGAGCTACTTTTGCACCTGCCACCCTGGCTTTGCACCAAGCAATGGACATTTGAATTTCACAGACCAAGAAGTGGAATGTAGAGATATTGATGAGTGCCGCCAAGATCCACCAACCTGTGGTCCTAATTCTATCTGCACCAATGCCCTGGGCTCCTACAGCTGTGGCTGCATTGCAGGCTTTCATCCCAATCCAGAAGGCTCCCAGAAAGATGGCAACTTCAGCTGCCAAAGGGTTCTCTTCAAATGTAAGGAAGATATGATACCCGATAAGAAGCAGATCCAGCAATGCCAAGAGGGAACCGCAGTGAAACCTGCATATGTCTCCTTTTGTGCACAAATAAATAACATCTTCAGCGTTCTGGACAAAGTGTGTGAAAATAAAACGACCGTAGTTTCTCTGAAGAATACAACTGAGAGCTTTGTCCCTGTGCTTAAACAAATATCCACGTGGACTAAATTCACCAAGGAAGAGACGTCCTCCCTGGCCACAGTCTTCCTGGAGAGTGTGGAAAGCATGACACTGGCATCTTTTTGGAAACCCTCAGCAAATGTCACTCCGGCTGTTCGGACGGAATACTTAGACATTGAGAGCAAAGTTATCAACAAAGAATGCAGTGAAGAGAATGTGACCTTGAACTTGGTAGCCAAGGGGGATAAGATGAAGATCGGGTGTTCCACAATTGAGGAATCTGAATCCACAGAGACCACTGGTGTGGCTTTTGTCTCCTTTGTGGGCATGGAATCGGTTTTAAGTGAGCGCTTCTTCCAAGACCACCAGGCTCCCTTGACCACCTCTGAGATCAAGCTGAAGATGAATTCTCGAGTCGTTGGGGGCATAATGACTGGAGAGAAGAAAGACGGCTTCTCAGATCCAGTCATCTACACTCTGGAGAACATTCAGCCAAAGCAGAAGTTTGAGAGGCCCATCTGTGTTTCCTGGAGCACTGATGTGAAGGGTGGAAGATGGACATCCTTTGGCTGTGTGATCCTGGAAGCTTCTGAGACATATACCGTCTGCAGCTGTAATCAGATGGCAAATCTTGCCGTTATCATGGCGTCTGGGGAGCTCACGATGGACTTTTCCTTGTACATCATTAGCCATGTGGGCATTATCATCTCCTTGGTGTGCCTCGTCTTGGCCATCGCCACCTTTCTGCTGTGTCGCTCCATCCGAAATCACAACACCTACCTCCACCTGCACCTCTGCGTGTGTCTCCTCTCGGCGAAGACTCTCTTCCTCGCTGGTATACACAAGACGGACAACAAGACGGGCTGCGCCATCATCGCGGGCTTCCTGCACTACCTTTTCCTTGCCTGCTTCTTCTGGATGCTGGTGGAGGCTGTGATACTGTTCTTGATGGTCAGAAACCTGAAGGTGGTGAATTACTTCAGCTCTCGCAACATCAAGATGCTGCACATCTGTGCCTTTGGTTATGGGCTGCCGATGCTGGTGGTGGTGATCTCTGCCAGTGTGCAGCCACAGGGCTATGGAATGCATAATCGCTGCTGGCTGAATACAGAGACAGGGTTCATCTGGAGTTTCTTGGGGCCAGTTTGCACAGTTATAGTGGTAAGCAAATACTACAACAGCCTGGCGAAGTGTGTTCTGAAGGAGGAGCAAGGAGACCTGCGAGATCTGGAATTTCCAGGGACGTGTGCAGCTGAGAGGATCAACTCCCTTCTCCTGACCTGGACCTTGTGGATCCTGAGGCAGAGGCTTTCCAGTGTTAATGCCGAAGTCTCAACGCTAAAAGACACCAGGTTACTGACCTTCAAGGCCTTTGCCCAGCTCTTCATCCTGGGCTGCTCCTGGGTGCTGGGCATTTTTCAGATTGGACCTGTGGCAGGTGTCATGGCTTACCTGTTCACCATTATCAACAGCCTGCAGGGGGCCTTCATCTTCCTCATCCACTGTCTGCTCAATGGCCAGGTACGAGAAGAATACAAGAGGTGGATCACTGGGAAGACGAAGCCCAGCTCCCAGTCCCAGACCTCAAGGATCTTGCTGTCCTCCATGCCATCCGCTTCCAAGACGGGTTAA\n"
     ]
    }
   ],
   "source": [
    "for i in indexes:\n",
    "    seq = human_data.iloc[i]['sequence']\n",
    "    data = seq\n",
    "    seq = seq.replace(\"N\", \"\")\n",
    "    human_data.replace(data, seq, inplace=True)\n",
    "print(seq)"
   ]
  },
  {
   "cell_type": "code",
   "execution_count": 6,
   "id": "c25794a6-78f0-407e-80d9-9f60e4bc3a94",
   "metadata": {},
   "outputs": [
    {
     "name": "stdout",
     "output_type": "stream",
     "text": [
      "ATGCCCCAACTAAATACTACCGTATGGCCCACCATAATTACCCCCATACTCCTTACACTATTCCTCATCACCCAACTAAAAATATTAAACACAAACTACCACCTACCTCCCTCACCAAAGCCCATAAAAATAAAAAATTATAACAAACCCTGAGAACCAAAATGAACGAAAATCTGTTCGCTTCATTCATTGCCCCCACAATCCTAG\n"
     ]
    }
   ],
   "source": [
    "print(human_data[\"sequence\"][0])"
   ]
  },
  {
   "cell_type": "code",
   "execution_count": 7,
   "id": "2d626d9e-72cc-4518-979c-53ceadf9778b",
   "metadata": {},
   "outputs": [],
   "source": [
    "for seq in human_data['sequence']:\n",
    "    data = seq\n",
    "    human_data.replace(data, seq, inplace=True)"
   ]
  },
  {
   "cell_type": "code",
   "execution_count": 8,
   "id": "056db949-fe07-46e1-9ec5-8752da5079f6",
   "metadata": {},
   "outputs": [],
   "source": [
    "#Encoding\n",
    "sequence = list(human_data.loc[:, 'sequence'])\n",
    "encoded_list = []\n",
    "classe_s = human_data[\"class\"]\n",
    "\n",
    "def encoding_seq(s):\n",
    "    Encode = {'A':[1,0,0,0],'T':[0,1,0,0],'C':[0,0,1,0],'G':[0,0,0,1]}\n",
    "    return [Encode[x] for x in s]\n",
    "for i in sequence:\n",
    "    seq = encoding_seq(i)\n",
    "    encoded_list.append(seq)\n",
    "sequence_s = keras.preprocessing.sequence.pad_sequences(encoded_list,maxlen = 2000)"
   ]
  },
  {
   "cell_type": "code",
   "execution_count": 9,
   "id": "2739adc5-d51e-4d7b-90a4-1dbe4a08c552",
   "metadata": {},
   "outputs": [
    {
     "data": {
      "text/plain": [
       "array([[[0, 0, 0, 0],\n",
       "        [0, 0, 0, 0],\n",
       "        [0, 0, 0, 0],\n",
       "        ...,\n",
       "        [0, 1, 0, 0],\n",
       "        [1, 0, 0, 0],\n",
       "        [0, 0, 0, 1]],\n",
       "\n",
       "       [[0, 0, 0, 0],\n",
       "        [0, 0, 0, 0],\n",
       "        [0, 0, 0, 0],\n",
       "        ...,\n",
       "        [0, 1, 0, 0],\n",
       "        [1, 0, 0, 0],\n",
       "        [1, 0, 0, 0]],\n",
       "\n",
       "       [[0, 0, 0, 0],\n",
       "        [0, 0, 0, 0],\n",
       "        [0, 0, 0, 0],\n",
       "        ...,\n",
       "        [0, 1, 0, 0],\n",
       "        [1, 0, 0, 0],\n",
       "        [0, 0, 0, 1]],\n",
       "\n",
       "       ...,\n",
       "\n",
       "       [[0, 0, 0, 0],\n",
       "        [0, 0, 0, 0],\n",
       "        [0, 0, 0, 0],\n",
       "        ...,\n",
       "        [0, 1, 0, 0],\n",
       "        [0, 0, 0, 1],\n",
       "        [1, 0, 0, 0]],\n",
       "\n",
       "       [[0, 1, 0, 0],\n",
       "        [0, 0, 0, 1],\n",
       "        [1, 0, 0, 0],\n",
       "        ...,\n",
       "        [0, 1, 0, 0],\n",
       "        [0, 0, 0, 1],\n",
       "        [1, 0, 0, 0]],\n",
       "\n",
       "       [[0, 0, 0, 0],\n",
       "        [0, 0, 0, 0],\n",
       "        [0, 0, 0, 0],\n",
       "        ...,\n",
       "        [0, 1, 0, 0],\n",
       "        [0, 0, 0, 1],\n",
       "        [1, 0, 0, 0]]])"
      ]
     },
     "execution_count": 9,
     "metadata": {},
     "output_type": "execute_result"
    }
   ],
   "source": [
    "sequence_s"
   ]
  },
  {
   "cell_type": "code",
   "execution_count": 10,
   "id": "da8bded8-75bf-48ac-aff7-904be0a3fac2",
   "metadata": {},
   "outputs": [
    {
     "name": "stdout",
     "output_type": "stream",
     "text": [
      "(6882, 2000, 4)\n",
      "(6882,)\n"
     ]
    }
   ],
   "source": [
    "# split of data into train and test \n",
    "x_train, x_test, y_train, y_test = train_test_split(sequence_s, classe_s, test_size=0.15, random_state=2)\n",
    "print(sequence_s.shape)\n",
    "print(classe_s.shape)"
   ]
  },
  {
   "cell_type": "code",
   "execution_count": 11,
   "id": "71bad77f-4c25-436c-baea-e40c6e9f5081",
   "metadata": {},
   "outputs": [],
   "source": [
    "#One hot encoding and convert shape of output into (none,7)\n",
    "from tensorflow.keras.utils import to_categorical\n",
    "y_train = to_categorical(y_train, num_classes=7)\n",
    "y_test = to_categorical(y_test, num_classes=7)"
   ]
  },
  {
   "cell_type": "code",
   "execution_count": 12,
   "id": "67581d63-691b-43b4-9779-129b536532ad",
   "metadata": {},
   "outputs": [
    {
     "data": {
      "text/plain": [
       "array([[0., 0., 0., ..., 0., 0., 1.],\n",
       "       [0., 0., 0., ..., 0., 0., 1.],\n",
       "       [1., 0., 0., ..., 0., 0., 0.],\n",
       "       ...,\n",
       "       [0., 0., 1., ..., 0., 0., 0.],\n",
       "       [0., 0., 0., ..., 0., 0., 1.],\n",
       "       [0., 0., 0., ..., 0., 0., 1.]])"
      ]
     },
     "execution_count": 12,
     "metadata": {},
     "output_type": "execute_result"
    }
   ],
   "source": [
    "y_train"
   ]
  },
  {
   "cell_type": "markdown",
   "id": "4e2fce02-edc2-4ab0-8af3-89defde78729",
   "metadata": {},
   "source": [
    "### GRU Model"
   ]
  },
  {
   "cell_type": "code",
   "execution_count": 13,
   "id": "d89fcef5-d618-4f23-8a23-169456cfc4ab",
   "metadata": {},
   "outputs": [
    {
     "name": "stderr",
     "output_type": "stream",
     "text": [
      "C:\\Users\\lenovo\\AppData\\Roaming\\Python\\Python312\\site-packages\\keras\\src\\layers\\convolutional\\base_conv.py:113: UserWarning: Do not pass an `input_shape`/`input_dim` argument to a layer. When using Sequential models, prefer using an `Input(shape)` object as the first layer in the model instead.\n",
      "  super().__init__(activity_regularizer=activity_regularizer, **kwargs)\n",
      "C:\\Users\\lenovo\\AppData\\Roaming\\Python\\Python312\\site-packages\\keras\\src\\layers\\rnn\\rnn.py:199: UserWarning: Do not pass an `input_shape`/`input_dim` argument to a layer. When using Sequential models, prefer using an `Input(shape)` object as the first layer in the model instead.\n",
      "  super().__init__(**kwargs)\n",
      "C:\\Users\\lenovo\\AppData\\Roaming\\Python\\Python312\\site-packages\\keras\\src\\layers\\core\\dense.py:93: UserWarning: Do not pass an `input_shape`/`input_dim` argument to a layer. When using Sequential models, prefer using an `Input(shape)` object as the first layer in the model instead.\n",
      "  super().__init__(activity_regularizer=activity_regularizer, **kwargs)\n"
     ]
    },
    {
     "data": {
      "text/html": [
       "<pre style=\"white-space:pre;overflow-x:auto;line-height:normal;font-family:Menlo,'DejaVu Sans Mono',consolas,'Courier New',monospace\"><span style=\"font-weight: bold\">Model: \"sequential\"</span>\n",
       "</pre>\n"
      ],
      "text/plain": [
       "\u001b[1mModel: \"sequential\"\u001b[0m\n"
      ]
     },
     "metadata": {},
     "output_type": "display_data"
    },
    {
     "data": {
      "text/html": [
       "<pre style=\"white-space:pre;overflow-x:auto;line-height:normal;font-family:Menlo,'DejaVu Sans Mono',consolas,'Courier New',monospace\">┏━━━━━━━━━━━━━━━━━━━━━━━━━━━━━━━━━━━━━━┳━━━━━━━━━━━━━━━━━━━━━━━━━━━━━┳━━━━━━━━━━━━━━━━━┓\n",
       "┃<span style=\"font-weight: bold\"> Layer (type)                         </span>┃<span style=\"font-weight: bold\"> Output Shape                </span>┃<span style=\"font-weight: bold\">         Param # </span>┃\n",
       "┡━━━━━━━━━━━━━━━━━━━━━━━━━━━━━━━━━━━━━━╇━━━━━━━━━━━━━━━━━━━━━━━━━━━━━╇━━━━━━━━━━━━━━━━━┩\n",
       "│ conv1d (<span style=\"color: #0087ff; text-decoration-color: #0087ff\">Conv1D</span>)                      │ (<span style=\"color: #00d7ff; text-decoration-color: #00d7ff\">None</span>, <span style=\"color: #00af00; text-decoration-color: #00af00\">347</span>, <span style=\"color: #00af00; text-decoration-color: #00af00\">27</span>)             │             <span style=\"color: #00af00; text-decoration-color: #00af00\">459</span> │\n",
       "├──────────────────────────────────────┼─────────────────────────────┼─────────────────┤\n",
       "│ max_pooling1d (<span style=\"color: #0087ff; text-decoration-color: #0087ff\">MaxPooling1D</span>)         │ (<span style=\"color: #00d7ff; text-decoration-color: #00d7ff\">None</span>, <span style=\"color: #00af00; text-decoration-color: #00af00\">69</span>, <span style=\"color: #00af00; text-decoration-color: #00af00\">27</span>)              │               <span style=\"color: #00af00; text-decoration-color: #00af00\">0</span> │\n",
       "├──────────────────────────────────────┼─────────────────────────────┼─────────────────┤\n",
       "│ dropout (<span style=\"color: #0087ff; text-decoration-color: #0087ff\">Dropout</span>)                    │ (<span style=\"color: #00d7ff; text-decoration-color: #00d7ff\">None</span>, <span style=\"color: #00af00; text-decoration-color: #00af00\">69</span>, <span style=\"color: #00af00; text-decoration-color: #00af00\">27</span>)              │               <span style=\"color: #00af00; text-decoration-color: #00af00\">0</span> │\n",
       "├──────────────────────────────────────┼─────────────────────────────┼─────────────────┤\n",
       "│ conv1d_1 (<span style=\"color: #0087ff; text-decoration-color: #0087ff\">Conv1D</span>)                    │ (<span style=\"color: #00d7ff; text-decoration-color: #00d7ff\">None</span>, <span style=\"color: #00af00; text-decoration-color: #00af00\">69</span>, <span style=\"color: #00af00; text-decoration-color: #00af00\">15</span>)              │             <span style=\"color: #00af00; text-decoration-color: #00af00\">825</span> │\n",
       "├──────────────────────────────────────┼─────────────────────────────┼─────────────────┤\n",
       "│ bidirectional (<span style=\"color: #0087ff; text-decoration-color: #0087ff\">Bidirectional</span>)        │ (<span style=\"color: #00d7ff; text-decoration-color: #00d7ff\">None</span>, <span style=\"color: #00af00; text-decoration-color: #00af00\">200</span>)                 │          <span style=\"color: #00af00; text-decoration-color: #00af00\">70,200</span> │\n",
       "├──────────────────────────────────────┼─────────────────────────────┼─────────────────┤\n",
       "│ dropout_1 (<span style=\"color: #0087ff; text-decoration-color: #0087ff\">Dropout</span>)                  │ (<span style=\"color: #00d7ff; text-decoration-color: #00d7ff\">None</span>, <span style=\"color: #00af00; text-decoration-color: #00af00\">200</span>)                 │               <span style=\"color: #00af00; text-decoration-color: #00af00\">0</span> │\n",
       "├──────────────────────────────────────┼─────────────────────────────┼─────────────────┤\n",
       "│ dense (<span style=\"color: #0087ff; text-decoration-color: #0087ff\">Dense</span>)                        │ (<span style=\"color: #00d7ff; text-decoration-color: #00d7ff\">None</span>, <span style=\"color: #00af00; text-decoration-color: #00af00\">50</span>)                  │          <span style=\"color: #00af00; text-decoration-color: #00af00\">10,050</span> │\n",
       "├──────────────────────────────────────┼─────────────────────────────┼─────────────────┤\n",
       "│ dense_1 (<span style=\"color: #0087ff; text-decoration-color: #0087ff\">Dense</span>)                      │ (<span style=\"color: #00d7ff; text-decoration-color: #00d7ff\">None</span>, <span style=\"color: #00af00; text-decoration-color: #00af00\">7</span>)                   │             <span style=\"color: #00af00; text-decoration-color: #00af00\">357</span> │\n",
       "└──────────────────────────────────────┴─────────────────────────────┴─────────────────┘\n",
       "</pre>\n"
      ],
      "text/plain": [
       "┏━━━━━━━━━━━━━━━━━━━━━━━━━━━━━━━━━━━━━━┳━━━━━━━━━━━━━━━━━━━━━━━━━━━━━┳━━━━━━━━━━━━━━━━━┓\n",
       "┃\u001b[1m \u001b[0m\u001b[1mLayer (type)                        \u001b[0m\u001b[1m \u001b[0m┃\u001b[1m \u001b[0m\u001b[1mOutput Shape               \u001b[0m\u001b[1m \u001b[0m┃\u001b[1m \u001b[0m\u001b[1m        Param #\u001b[0m\u001b[1m \u001b[0m┃\n",
       "┡━━━━━━━━━━━━━━━━━━━━━━━━━━━━━━━━━━━━━━╇━━━━━━━━━━━━━━━━━━━━━━━━━━━━━╇━━━━━━━━━━━━━━━━━┩\n",
       "│ conv1d (\u001b[38;5;33mConv1D\u001b[0m)                      │ (\u001b[38;5;45mNone\u001b[0m, \u001b[38;5;34m347\u001b[0m, \u001b[38;5;34m27\u001b[0m)             │             \u001b[38;5;34m459\u001b[0m │\n",
       "├──────────────────────────────────────┼─────────────────────────────┼─────────────────┤\n",
       "│ max_pooling1d (\u001b[38;5;33mMaxPooling1D\u001b[0m)         │ (\u001b[38;5;45mNone\u001b[0m, \u001b[38;5;34m69\u001b[0m, \u001b[38;5;34m27\u001b[0m)              │               \u001b[38;5;34m0\u001b[0m │\n",
       "├──────────────────────────────────────┼─────────────────────────────┼─────────────────┤\n",
       "│ dropout (\u001b[38;5;33mDropout\u001b[0m)                    │ (\u001b[38;5;45mNone\u001b[0m, \u001b[38;5;34m69\u001b[0m, \u001b[38;5;34m27\u001b[0m)              │               \u001b[38;5;34m0\u001b[0m │\n",
       "├──────────────────────────────────────┼─────────────────────────────┼─────────────────┤\n",
       "│ conv1d_1 (\u001b[38;5;33mConv1D\u001b[0m)                    │ (\u001b[38;5;45mNone\u001b[0m, \u001b[38;5;34m69\u001b[0m, \u001b[38;5;34m15\u001b[0m)              │             \u001b[38;5;34m825\u001b[0m │\n",
       "├──────────────────────────────────────┼─────────────────────────────┼─────────────────┤\n",
       "│ bidirectional (\u001b[38;5;33mBidirectional\u001b[0m)        │ (\u001b[38;5;45mNone\u001b[0m, \u001b[38;5;34m200\u001b[0m)                 │          \u001b[38;5;34m70,200\u001b[0m │\n",
       "├──────────────────────────────────────┼─────────────────────────────┼─────────────────┤\n",
       "│ dropout_1 (\u001b[38;5;33mDropout\u001b[0m)                  │ (\u001b[38;5;45mNone\u001b[0m, \u001b[38;5;34m200\u001b[0m)                 │               \u001b[38;5;34m0\u001b[0m │\n",
       "├──────────────────────────────────────┼─────────────────────────────┼─────────────────┤\n",
       "│ dense (\u001b[38;5;33mDense\u001b[0m)                        │ (\u001b[38;5;45mNone\u001b[0m, \u001b[38;5;34m50\u001b[0m)                  │          \u001b[38;5;34m10,050\u001b[0m │\n",
       "├──────────────────────────────────────┼─────────────────────────────┼─────────────────┤\n",
       "│ dense_1 (\u001b[38;5;33mDense\u001b[0m)                      │ (\u001b[38;5;45mNone\u001b[0m, \u001b[38;5;34m7\u001b[0m)                   │             \u001b[38;5;34m357\u001b[0m │\n",
       "└──────────────────────────────────────┴─────────────────────────────┴─────────────────┘\n"
      ]
     },
     "metadata": {},
     "output_type": "display_data"
    },
    {
     "data": {
      "text/html": [
       "<pre style=\"white-space:pre;overflow-x:auto;line-height:normal;font-family:Menlo,'DejaVu Sans Mono',consolas,'Courier New',monospace\"><span style=\"font-weight: bold\"> Total params: </span><span style=\"color: #00af00; text-decoration-color: #00af00\">81,891</span> (319.89 KB)\n",
       "</pre>\n"
      ],
      "text/plain": [
       "\u001b[1m Total params: \u001b[0m\u001b[38;5;34m81,891\u001b[0m (319.89 KB)\n"
      ]
     },
     "metadata": {},
     "output_type": "display_data"
    },
    {
     "data": {
      "text/html": [
       "<pre style=\"white-space:pre;overflow-x:auto;line-height:normal;font-family:Menlo,'DejaVu Sans Mono',consolas,'Courier New',monospace\"><span style=\"font-weight: bold\"> Trainable params: </span><span style=\"color: #00af00; text-decoration-color: #00af00\">81,891</span> (319.89 KB)\n",
       "</pre>\n"
      ],
      "text/plain": [
       "\u001b[1m Trainable params: \u001b[0m\u001b[38;5;34m81,891\u001b[0m (319.89 KB)\n"
      ]
     },
     "metadata": {},
     "output_type": "display_data"
    },
    {
     "data": {
      "text/html": [
       "<pre style=\"white-space:pre;overflow-x:auto;line-height:normal;font-family:Menlo,'DejaVu Sans Mono',consolas,'Courier New',monospace\"><span style=\"font-weight: bold\"> Non-trainable params: </span><span style=\"color: #00af00; text-decoration-color: #00af00\">0</span> (0.00 B)\n",
       "</pre>\n"
      ],
      "text/plain": [
       "\u001b[1m Non-trainable params: \u001b[0m\u001b[38;5;34m0\u001b[0m (0.00 B)\n"
      ]
     },
     "metadata": {},
     "output_type": "display_data"
    },
    {
     "name": "stdout",
     "output_type": "stream",
     "text": [
      "None\n",
      "Epoch 1/50\n",
      "\u001b[1m59/59\u001b[0m \u001b[32m━━━━━━━━━━━━━━━━━━━━\u001b[0m\u001b[37m\u001b[0m \u001b[1m110s\u001b[0m 2s/step - accuracy: 0.2853 - loss: 0.5137 - val_accuracy: 0.2972 - val_loss: 0.3843\n",
      "Epoch 2/50\n",
      "\u001b[1m59/59\u001b[0m \u001b[32m━━━━━━━━━━━━━━━━━━━━\u001b[0m\u001b[37m\u001b[0m \u001b[1m99s\u001b[0m 2s/step - accuracy: 0.3064 - loss: 0.3851 - val_accuracy: 0.3030 - val_loss: 0.3812\n",
      "Epoch 3/50\n",
      "\u001b[1m59/59\u001b[0m \u001b[32m━━━━━━━━━━━━━━━━━━━━\u001b[0m\u001b[37m\u001b[0m \u001b[1m101s\u001b[0m 2s/step - accuracy: 0.3137 - loss: 0.3808 - val_accuracy: 0.3011 - val_loss: 0.3815\n",
      "Epoch 4/50\n",
      "\u001b[1m59/59\u001b[0m \u001b[32m━━━━━━━━━━━━━━━━━━━━\u001b[0m\u001b[37m\u001b[0m \u001b[1m103s\u001b[0m 2s/step - accuracy: 0.3088 - loss: 0.3835 - val_accuracy: 0.3001 - val_loss: 0.3808\n",
      "Epoch 5/50\n",
      "\u001b[1m59/59\u001b[0m \u001b[32m━━━━━━━━━━━━━━━━━━━━\u001b[0m\u001b[37m\u001b[0m \u001b[1m105s\u001b[0m 2s/step - accuracy: 0.3104 - loss: 0.3816 - val_accuracy: 0.3001 - val_loss: 0.3797\n",
      "Epoch 6/50\n",
      "\u001b[1m59/59\u001b[0m \u001b[32m━━━━━━━━━━━━━━━━━━━━\u001b[0m\u001b[37m\u001b[0m \u001b[1m105s\u001b[0m 2s/step - accuracy: 0.3167 - loss: 0.3813 - val_accuracy: 0.3001 - val_loss: 0.3789\n",
      "Epoch 7/50\n",
      "\u001b[1m59/59\u001b[0m \u001b[32m━━━━━━━━━━━━━━━━━━━━\u001b[0m\u001b[37m\u001b[0m \u001b[1m104s\u001b[0m 2s/step - accuracy: 0.3171 - loss: 0.3793 - val_accuracy: 0.3049 - val_loss: 0.3791\n",
      "Epoch 8/50\n",
      "\u001b[1m59/59\u001b[0m \u001b[32m━━━━━━━━━━━━━━━━━━━━\u001b[0m\u001b[37m\u001b[0m \u001b[1m148s\u001b[0m 2s/step - accuracy: 0.3281 - loss: 0.3757 - val_accuracy: 0.3166 - val_loss: 0.3698\n",
      "Epoch 9/50\n",
      "\u001b[1m59/59\u001b[0m \u001b[32m━━━━━━━━━━━━━━━━━━━━\u001b[0m\u001b[37m\u001b[0m \u001b[1m109s\u001b[0m 2s/step - accuracy: 0.3293 - loss: 0.3705 - val_accuracy: 0.3988 - val_loss: 0.3527\n",
      "Epoch 10/50\n",
      "\u001b[1m59/59\u001b[0m \u001b[32m━━━━━━━━━━━━━━━━━━━━\u001b[0m\u001b[37m\u001b[0m \u001b[1m115s\u001b[0m 2s/step - accuracy: 0.3655 - loss: 0.3592 - val_accuracy: 0.4414 - val_loss: 0.3337\n",
      "Epoch 11/50\n",
      "\u001b[1m59/59\u001b[0m \u001b[32m━━━━━━━━━━━━━━━━━━━━\u001b[0m\u001b[37m\u001b[0m \u001b[1m119s\u001b[0m 2s/step - accuracy: 0.3967 - loss: 0.3456 - val_accuracy: 0.4598 - val_loss: 0.3311\n",
      "Epoch 12/50\n",
      "\u001b[1m59/59\u001b[0m \u001b[32m━━━━━━━━━━━━━━━━━━━━\u001b[0m\u001b[37m\u001b[0m \u001b[1m121s\u001b[0m 2s/step - accuracy: 0.4325 - loss: 0.3346 - val_accuracy: 0.4463 - val_loss: 0.3186\n",
      "Epoch 13/50\n",
      "\u001b[1m59/59\u001b[0m \u001b[32m━━━━━━━━━━━━━━━━━━━━\u001b[0m\u001b[37m\u001b[0m \u001b[1m121s\u001b[0m 2s/step - accuracy: 0.4321 - loss: 0.3304 - val_accuracy: 0.5286 - val_loss: 0.2970\n",
      "Epoch 14/50\n",
      "\u001b[1m59/59\u001b[0m \u001b[32m━━━━━━━━━━━━━━━━━━━━\u001b[0m\u001b[37m\u001b[0m \u001b[1m119s\u001b[0m 2s/step - accuracy: 0.4816 - loss: 0.3142 - val_accuracy: 0.5189 - val_loss: 0.2985\n",
      "Epoch 15/50\n",
      "\u001b[1m59/59\u001b[0m \u001b[32m━━━━━━━━━━━━━━━━━━━━\u001b[0m\u001b[37m\u001b[0m \u001b[1m112s\u001b[0m 2s/step - accuracy: 0.4982 - loss: 0.3049 - val_accuracy: 0.5208 - val_loss: 0.2914\n",
      "Epoch 16/50\n",
      "\u001b[1m59/59\u001b[0m \u001b[32m━━━━━━━━━━━━━━━━━━━━\u001b[0m\u001b[37m\u001b[0m \u001b[1m138s\u001b[0m 2s/step - accuracy: 0.5197 - loss: 0.2981 - val_accuracy: 0.5518 - val_loss: 0.2825\n",
      "Epoch 17/50\n",
      "\u001b[1m59/59\u001b[0m \u001b[32m━━━━━━━━━━━━━━━━━━━━\u001b[0m\u001b[37m\u001b[0m \u001b[1m108s\u001b[0m 2s/step - accuracy: 0.5198 - loss: 0.2937 - val_accuracy: 0.5566 - val_loss: 0.2784\n",
      "Epoch 18/50\n",
      "\u001b[1m59/59\u001b[0m \u001b[32m━━━━━━━━━━━━━━━━━━━━\u001b[0m\u001b[37m\u001b[0m \u001b[1m92s\u001b[0m 978ms/step - accuracy: 0.5408 - loss: 0.2838 - val_accuracy: 0.5692 - val_loss: 0.2709\n",
      "Epoch 19/50\n",
      "\u001b[1m59/59\u001b[0m \u001b[32m━━━━━━━━━━━━━━━━━━━━\u001b[0m\u001b[37m\u001b[0m \u001b[1m59s\u001b[0m 1s/step - accuracy: 0.5566 - loss: 0.2752 - val_accuracy: 0.5702 - val_loss: 0.2702\n",
      "Epoch 20/50\n",
      "\u001b[1m59/59\u001b[0m \u001b[32m━━━━━━━━━━━━━━━━━━━━\u001b[0m\u001b[37m\u001b[0m \u001b[1m49s\u001b[0m 837ms/step - accuracy: 0.5553 - loss: 0.2742 - val_accuracy: 0.6012 - val_loss: 0.2648\n",
      "Epoch 21/50\n",
      "\u001b[1m59/59\u001b[0m \u001b[32m━━━━━━━━━━━━━━━━━━━━\u001b[0m\u001b[37m\u001b[0m \u001b[1m53s\u001b[0m 906ms/step - accuracy: 0.5648 - loss: 0.2739 - val_accuracy: 0.5915 - val_loss: 0.2571\n",
      "Epoch 22/50\n",
      "\u001b[1m59/59\u001b[0m \u001b[32m━━━━━━━━━━━━━━━━━━━━\u001b[0m\u001b[37m\u001b[0m \u001b[1m52s\u001b[0m 879ms/step - accuracy: 0.5790 - loss: 0.2608 - val_accuracy: 0.6167 - val_loss: 0.2485\n",
      "Epoch 23/50\n",
      "\u001b[1m59/59\u001b[0m \u001b[32m━━━━━━━━━━━━━━━━━━━━\u001b[0m\u001b[37m\u001b[0m \u001b[1m52s\u001b[0m 889ms/step - accuracy: 0.5868 - loss: 0.2577 - val_accuracy: 0.6118 - val_loss: 0.2492\n",
      "Epoch 24/50\n",
      "\u001b[1m59/59\u001b[0m \u001b[32m━━━━━━━━━━━━━━━━━━━━\u001b[0m\u001b[37m\u001b[0m \u001b[1m55s\u001b[0m 931ms/step - accuracy: 0.5937 - loss: 0.2543 - val_accuracy: 0.6254 - val_loss: 0.2428\n",
      "Epoch 25/50\n",
      "\u001b[1m59/59\u001b[0m \u001b[32m━━━━━━━━━━━━━━━━━━━━\u001b[0m\u001b[37m\u001b[0m \u001b[1m54s\u001b[0m 920ms/step - accuracy: 0.6124 - loss: 0.2449 - val_accuracy: 0.6399 - val_loss: 0.2361\n",
      "Epoch 26/50\n",
      "\u001b[1m59/59\u001b[0m \u001b[32m━━━━━━━━━━━━━━━━━━━━\u001b[0m\u001b[37m\u001b[0m \u001b[1m52s\u001b[0m 877ms/step - accuracy: 0.6165 - loss: 0.2436 - val_accuracy: 0.6205 - val_loss: 0.2425\n",
      "Epoch 27/50\n",
      "\u001b[1m59/59\u001b[0m \u001b[32m━━━━━━━━━━━━━━━━━━━━\u001b[0m\u001b[37m\u001b[0m \u001b[1m52s\u001b[0m 886ms/step - accuracy: 0.6241 - loss: 0.2390 - val_accuracy: 0.6428 - val_loss: 0.2300\n",
      "Epoch 28/50\n",
      "\u001b[1m59/59\u001b[0m \u001b[32m━━━━━━━━━━━━━━━━━━━━\u001b[0m\u001b[37m\u001b[0m \u001b[1m57s\u001b[0m 962ms/step - accuracy: 0.6307 - loss: 0.2361 - val_accuracy: 0.6350 - val_loss: 0.2324\n",
      "Epoch 29/50\n",
      "\u001b[1m59/59\u001b[0m \u001b[32m━━━━━━━━━━━━━━━━━━━━\u001b[0m\u001b[37m\u001b[0m \u001b[1m79s\u001b[0m 908ms/step - accuracy: 0.6340 - loss: 0.2326 - val_accuracy: 0.6476 - val_loss: 0.2257\n",
      "Epoch 30/50\n",
      "\u001b[1m59/59\u001b[0m \u001b[32m━━━━━━━━━━━━━━━━━━━━\u001b[0m\u001b[37m\u001b[0m \u001b[1m82s\u001b[0m 912ms/step - accuracy: 0.6368 - loss: 0.2254 - val_accuracy: 0.6418 - val_loss: 0.2279\n",
      "Epoch 31/50\n",
      "\u001b[1m59/59\u001b[0m \u001b[32m━━━━━━━━━━━━━━━━━━━━\u001b[0m\u001b[37m\u001b[0m \u001b[1m57s\u001b[0m 965ms/step - accuracy: 0.6435 - loss: 0.2242 - val_accuracy: 0.6496 - val_loss: 0.2287\n",
      "Epoch 32/50\n",
      "\u001b[1m59/59\u001b[0m \u001b[32m━━━━━━━━━━━━━━━━━━━━\u001b[0m\u001b[37m\u001b[0m \u001b[1m56s\u001b[0m 955ms/step - accuracy: 0.6504 - loss: 0.2211 - val_accuracy: 0.6747 - val_loss: 0.2152\n",
      "Epoch 33/50\n",
      "\u001b[1m59/59\u001b[0m \u001b[32m━━━━━━━━━━━━━━━━━━━━\u001b[0m\u001b[37m\u001b[0m \u001b[1m54s\u001b[0m 907ms/step - accuracy: 0.6626 - loss: 0.2196 - val_accuracy: 0.6699 - val_loss: 0.2222\n",
      "Epoch 34/50\n",
      "\u001b[1m59/59\u001b[0m \u001b[32m━━━━━━━━━━━━━━━━━━━━\u001b[0m\u001b[37m\u001b[0m \u001b[1m57s\u001b[0m 967ms/step - accuracy: 0.6614 - loss: 0.2153 - val_accuracy: 0.6786 - val_loss: 0.2166\n",
      "Epoch 35/50\n",
      "\u001b[1m59/59\u001b[0m \u001b[32m━━━━━━━━━━━━━━━━━━━━\u001b[0m\u001b[37m\u001b[0m \u001b[1m55s\u001b[0m 929ms/step - accuracy: 0.6693 - loss: 0.2081 - val_accuracy: 0.6660 - val_loss: 0.2159\n",
      "Epoch 36/50\n",
      "\u001b[1m59/59\u001b[0m \u001b[32m━━━━━━━━━━━━━━━━━━━━\u001b[0m\u001b[37m\u001b[0m \u001b[1m55s\u001b[0m 928ms/step - accuracy: 0.6850 - loss: 0.2037 - val_accuracy: 0.6776 - val_loss: 0.2145\n",
      "Epoch 37/50\n",
      "\u001b[1m59/59\u001b[0m \u001b[32m━━━━━━━━━━━━━━━━━━━━\u001b[0m\u001b[37m\u001b[0m \u001b[1m57s\u001b[0m 972ms/step - accuracy: 0.7075 - loss: 0.1945 - val_accuracy: 0.6941 - val_loss: 0.2042\n",
      "Epoch 38/50\n",
      "\u001b[1m59/59\u001b[0m \u001b[32m━━━━━━━━━━━━━━━━━━━━\u001b[0m\u001b[37m\u001b[0m \u001b[1m55s\u001b[0m 940ms/step - accuracy: 0.6988 - loss: 0.1925 - val_accuracy: 0.7028 - val_loss: 0.2007\n",
      "Epoch 39/50\n",
      "\u001b[1m59/59\u001b[0m \u001b[32m━━━━━━━━━━━━━━━━━━━━\u001b[0m\u001b[37m\u001b[0m \u001b[1m55s\u001b[0m 931ms/step - accuracy: 0.7061 - loss: 0.1937 - val_accuracy: 0.6951 - val_loss: 0.1983\n",
      "Epoch 40/50\n",
      "\u001b[1m59/59\u001b[0m \u001b[32m━━━━━━━━━━━━━━━━━━━━\u001b[0m\u001b[37m\u001b[0m \u001b[1m56s\u001b[0m 947ms/step - accuracy: 0.7015 - loss: 0.1911 - val_accuracy: 0.6941 - val_loss: 0.2040\n",
      "Epoch 41/50\n",
      "\u001b[1m59/59\u001b[0m \u001b[32m━━━━━━━━━━━━━━━━━━━━\u001b[0m\u001b[37m\u001b[0m \u001b[1m56s\u001b[0m 937ms/step - accuracy: 0.6920 - loss: 0.1974 - val_accuracy: 0.7135 - val_loss: 0.1926\n",
      "Epoch 42/50\n",
      "\u001b[1m59/59\u001b[0m \u001b[32m━━━━━━━━━━━━━━━━━━━━\u001b[0m\u001b[37m\u001b[0m \u001b[1m54s\u001b[0m 922ms/step - accuracy: 0.7177 - loss: 0.1842 - val_accuracy: 0.7183 - val_loss: 0.1929\n",
      "Epoch 43/50\n",
      "\u001b[1m59/59\u001b[0m \u001b[32m━━━━━━━━━━━━━━━━━━━━\u001b[0m\u001b[37m\u001b[0m \u001b[1m82s\u001b[0m 922ms/step - accuracy: 0.7214 - loss: 0.1839 - val_accuracy: 0.7164 - val_loss: 0.1914\n",
      "Epoch 44/50\n",
      "\u001b[1m59/59\u001b[0m \u001b[32m━━━━━━━━━━━━━━━━━━━━\u001b[0m\u001b[37m\u001b[0m \u001b[1m58s\u001b[0m 984ms/step - accuracy: 0.7321 - loss: 0.1781 - val_accuracy: 0.7231 - val_loss: 0.1915\n",
      "Epoch 45/50\n",
      "\u001b[1m59/59\u001b[0m \u001b[32m━━━━━━━━━━━━━━━━━━━━\u001b[0m\u001b[37m\u001b[0m \u001b[1m80s\u001b[0m 943ms/step - accuracy: 0.7390 - loss: 0.1784 - val_accuracy: 0.7202 - val_loss: 0.1916\n",
      "Epoch 46/50\n",
      "\u001b[1m59/59\u001b[0m \u001b[32m━━━━━━━━━━━━━━━━━━━━\u001b[0m\u001b[37m\u001b[0m \u001b[1m61s\u001b[0m 1s/step - accuracy: 0.7388 - loss: 0.1756 - val_accuracy: 0.7241 - val_loss: 0.1843\n",
      "Epoch 47/50\n",
      "\u001b[1m59/59\u001b[0m \u001b[32m━━━━━━━━━━━━━━━━━━━━\u001b[0m\u001b[37m\u001b[0m \u001b[1m58s\u001b[0m 986ms/step - accuracy: 0.7458 - loss: 0.1707 - val_accuracy: 0.7173 - val_loss: 0.1867\n",
      "Epoch 48/50\n",
      "\u001b[1m59/59\u001b[0m \u001b[32m━━━━━━━━━━━━━━━━━━━━\u001b[0m\u001b[37m\u001b[0m \u001b[1m82s\u001b[0m 991ms/step - accuracy: 0.7506 - loss: 0.1675 - val_accuracy: 0.7396 - val_loss: 0.1777\n",
      "Epoch 49/50\n",
      "\u001b[1m59/59\u001b[0m \u001b[32m━━━━━━━━━━━━━━━━━━━━\u001b[0m\u001b[37m\u001b[0m \u001b[1m57s\u001b[0m 963ms/step - accuracy: 0.7487 - loss: 0.1651 - val_accuracy: 0.7328 - val_loss: 0.1800\n",
      "Epoch 50/50\n",
      "\u001b[1m59/59\u001b[0m \u001b[32m━━━━━━━━━━━━━━━━━━━━\u001b[0m\u001b[37m\u001b[0m \u001b[1m60s\u001b[0m 1s/step - accuracy: 0.7630 - loss: 0.1602 - val_accuracy: 0.7318 - val_loss: 0.1854\n"
     ]
    }
   ],
   "source": [
    "model = Sequential()\n",
    "model.add(Conv1D(filters = 27, kernel_size = (4), activation = 'relu', input_shape = (350, 4)))\n",
    "model.add(MaxPooling1D(pool_size= (5)))\n",
    "model.add(Dropout(0.2))\n",
    "model.add(Conv1D(filters = 15, kernel_size = (2), activation = 'relu', padding = 'same'))\n",
    "model.add(Bidirectional(GRU(100, input_shape=(None, 4))))\n",
    "model.add(Dropout(0.2))\n",
    "model.add(Dense(50, activation='relu'))\n",
    "model.add(Dense(7, activation='sigmoid', input_shape=(None, 4)))\n",
    "model.compile(loss='binary_crossentropy', optimizer='adam', metrics=['accuracy'])\n",
    "print(model.summary())\n",
    "early_stop = keras.callbacks.EarlyStopping(monitor = 'val_loss', patience=5, restore_best_weights=True )\n",
    "history = model.fit(x_train, y_train, batch_size=100 , epochs=50, validation_data=(x_test, y_test))"
   ]
  },
  {
   "cell_type": "code",
   "execution_count": 14,
   "id": "6bb3f329-1191-4ccb-95eb-adbf320bcd61",
   "metadata": {},
   "outputs": [
    {
     "name": "stderr",
     "output_type": "stream",
     "text": [
      "WARNING:absl:You are saving your model as an HDF5 file via `model.save()` or `keras.saving.save_model(model)`. This file format is considered legacy. We recommend using instead the native Keras format, e.g. `model.save('my_model.keras')` or `keras.saving.save_model(model, 'my_model.keras')`. \n"
     ]
    }
   ],
   "source": [
    "# save the model\n",
    "model.save(\"DNA_sequence_model.h5\")"
   ]
  },
  {
   "cell_type": "code",
   "execution_count": 16,
   "id": "46a25df8-ce29-4f6a-8869-96defee60637",
   "metadata": {},
   "outputs": [
    {
     "name": "stderr",
     "output_type": "stream",
     "text": [
      "WARNING:absl:Compiled the loaded model, but the compiled metrics have yet to be built. `model.compile_metrics` will be empty until you train or evaluate the model.\n"
     ]
    },
    {
     "name": "stdout",
     "output_type": "stream",
     "text": [
      "Accuracy is 73.1848955154419\n"
     ]
    },
    {
     "data": {
      "image/png": "[encoded data removed]",
      "text/plain": [
       "<Figure size 640x480 with 1 Axes>"
      ]
     },
     "metadata": {},
     "output_type": "display_data"
    },
    {
     "data": {
      "image/png": "[encoded data removed]",
      "text/plain": [
       "<Figure size 640x480 with 1 Axes>"
      ]
     },
     "metadata": {},
     "output_type": "display_data"
    }
   ],
   "source": [
    "# compare training loss and validation loss , train accuracy and validation accuracy\n",
    "from keras.models import load_model\n",
    "model = load_model(\"DNA_sequence_model.h5\")\n",
    "score = model.evaluate(x_test,y_test,verbose = 0)\n",
    "print(f\"Accuracy is {score[1]*100}\")\n",
    "acc,val_acc = history.history[\"accuracy\"],history.history[\"val_accuracy\"]\n",
    "loss,val_loss = history.history[\"loss\"],history.history['val_loss']\n",
    "epochs = range(len(acc))\n",
    "plt.plot(epochs,acc,color = \"blue\",label = \"training accuracy\")\n",
    "plt.plot(epochs,val_acc,color = \"red\",label = \"validation accuracy\")\n",
    "plt.legend()\n",
    "plt.figure()\n",
    "plt.plot(epochs,loss,color = \"blue\",label = \"training loss\")\n",
    "plt.plot(epochs,val_loss,color = \"red\",label = \"validation loss\")\n",
    "plt.legend()\n",
    "plt.show()"
   ]
  },
  {
   "cell_type": "code",
   "execution_count": 17,
   "id": "80917b31-86ff-4021-988b-7f861110ea47",
   "metadata": {},
   "outputs": [
    {
     "name": "stdout",
     "output_type": "stream",
     "text": [
      "\u001b[1m33/33\u001b[0m \u001b[32m━━━━━━━━━━━━━━━━━━━━\u001b[0m\u001b[37m\u001b[0m \u001b[1m2s\u001b[0m 62ms/step\n"
     ]
    }
   ],
   "source": [
    "# prediction and create a confusion matrix\n",
    "y_pred=model.predict(x_test)\n",
    "y_pred=np.argmax(y_pred, axis=1)\n",
    "y_test=np.argmax(y_test, axis=1)"
   ]
  },
  {
   "cell_type": "code",
   "execution_count": 18,
   "id": "ada71e06-164e-4dbc-9081-337fbb7d2d7c",
   "metadata": {},
   "outputs": [
    {
     "name": "stdout",
     "output_type": "stream",
     "text": [
      "              precision    recall  f1-score   support\n",
      "\n",
      "           0       0.92      0.77      0.84       138\n",
      "           1       0.77      0.65      0.71       110\n",
      "           2       0.92      0.48      0.63        69\n",
      "           3       0.53      0.73      0.62       155\n",
      "           4       0.57      0.74      0.64       184\n",
      "           5       0.81      0.45      0.58        67\n",
      "           6       0.89      0.85      0.87       310\n",
      "\n",
      "    accuracy                           0.73      1033\n",
      "   macro avg       0.77      0.67      0.70      1033\n",
      "weighted avg       0.77      0.73      0.74      1033\n",
      "\n"
     ]
    }
   ],
   "source": [
    "from sklearn.metrics import confusion_matrix\n",
    "cf_mat = confusion_matrix(y_test,y_pred)\n",
    "print(metrics.classification_report(y_test, y_pred))"
   ]
  },
  {
   "cell_type": "code",
   "execution_count": 21,
   "id": "47001fe0-f832-44c8-9798-ce92ca2c8166",
   "metadata": {},
   "outputs": [
    {
     "name": "stderr",
     "output_type": "stream",
     "text": [
      "WARNING:absl:Compiled the loaded model, but the compiled metrics have yet to be built. `model.compile_metrics` will be empty until you train or evaluate the model.\n"
     ]
    },
    {
     "name": "stdout",
     "output_type": "stream",
     "text": [
      "\u001b[1m1/1\u001b[0m \u001b[32m━━━━━━━━━━━━━━━━━━━━\u001b[0m\u001b[37m\u001b[0m \u001b[1m1s\u001b[0m 568ms/step\n",
      "[6 6 2 1 4]\n",
      "Probability Distributions: [[0.01412801 0.07737922 0.03618878 0.3431057  0.10742129 0.16064967\n",
      "  0.4408105 ]\n",
      " [0.10484934 0.03197532 0.01703501 0.01076343 0.13739175 0.0307679\n",
      "  0.6437279 ]\n",
      " [0.06900949 0.05922465 0.2903038  0.11192051 0.21782902 0.09282147\n",
      "  0.1488187 ]\n",
      " [0.00370275 0.8931187  0.00426924 0.01372686 0.06271089 0.07645436\n",
      "  0.01428306]\n",
      " [0.02151564 0.05514845 0.02937303 0.33307132 0.367042   0.07913258\n",
      "  0.3034915 ]]\n"
     ]
    }
   ],
   "source": [
    "from keras.models import load_model\n",
    "\n",
    "# Load the saved model\n",
    "loaded_model = load_model(\"DNA_sequence_model.h5\")\n",
    "\n",
    "# Preprocess input data\n",
    "# Assuming 'new_data' contains your new sequences\n",
    "new_data= [\n",
    "    \"ATCGATCGATCGATCGATCGATCGATCGATCGATCGATCGATCGATCGATCGATCGATCG\",\n",
    "    \"CCCCCCCCCCCCCCCCCCCCCCCCCCCCCCCCCCCCCCCCCCCCCCCCCCCCCCCCCCCC\",\n",
    "    \"ATATATATATATATATATATATATATATATATATATATATATATATATATATATATATAT\",\n",
    "    \"GGGGGGGGGGGGGGGGGGGGGGGGGGGGGGGGGGGGGGGGGGGGGGGGGGGGGGGGGGGG\",\n",
    "    \"AGCTAGCTAGCTAGCTAGCTAGCTAGCTAGCTAGCTAGCTAGCTAGCTAGCTAGCTAGCTA\"\n",
    "]\n",
    "encoded_new_data = []\n",
    "for i in new_data:\n",
    "    seq = encoding_seq(i)\n",
    "    encoded_new_data.append(seq)\n",
    "padded_new_data = keras.preprocessing.sequence.pad_sequences(encoded_new_data, maxlen=2000)\n",
    "\n",
    "# Make predictions\n",
    "predictions = loaded_model.predict(padded_new_data)\n",
    "\n",
    "# Process predictions as needed\n",
    "# For example, get the class labels:\n",
    "predicted_classes = np.argmax(predictions, axis=1)\n",
    "print(predicted_classes)\n",
    "# You can use 'predicted_classes' for further analysis or downstream tasks\n",
    "print(\"Probability Distributions:\", predictions)"
   ]
  },
  {
   "cell_type": "code",
   "execution_count": null,
   "id": "c421351d-cd57-4b6e-8b02-4b88a5e4544e",
   "metadata": {},
   "outputs": [],
   "source": []
  }
 ],
 "metadata": {
  "kernelspec": {
   "display_name": "Python 3 (ipykernel)",
   "language": "python",
   "name": "python3"
  },
  "language_info": {
   "codemirror_mode": {
    "name": "ipython",
    "version": 3
   },
   "file_extension": ".py",
   "mimetype": "text/x-python",
   "name": "python",
   "nbconvert_exporter": "python",
   "pygments_lexer": "ipython3",
   "version": "3.12.7"
  }
 },
 "nbformat": 4,
 "nbformat_minor": 5
}
